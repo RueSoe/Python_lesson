{
 "cells": [
  {
   "cell_type": "code",
   "execution_count": 6,
   "metadata": {},
   "outputs": [],
   "source": [
    "import urllib.request\n",
    "import pandas as pd"
   ]
  },
  {
   "cell_type": "code",
   "execution_count": 3,
   "metadata": {},
   "outputs": [],
   "source": [
    "open_apc_url = \"https://raw.githubusercontent.com/OpenAPC/openapc-de/master/data/fuberlin/APC_FU_Berlin_2015.csv\"\n",
    "apc_file = \"openapc.csv\""
   ]
  },
  {
   "cell_type": "code",
   "execution_count": 4,
   "metadata": {},
   "outputs": [
    {
     "data": {
      "text/plain": [
       "('openapc.csv', <http.client.HTTPMessage at 0x11a4cb250>)"
      ]
     },
     "execution_count": 4,
     "metadata": {},
     "output_type": "execute_result"
    }
   ],
   "source": [
    "urllib.request.urlretrieve(open_apc_url, apc_file)"
   ]
  },
  {
   "cell_type": "code",
   "execution_count": 7,
   "metadata": {},
   "outputs": [],
   "source": [
    "apcs = pd.read_csv(apc_file)"
   ]
  },
  {
   "cell_type": "code",
   "execution_count": 8,
   "metadata": {},
   "outputs": [
    {
     "data": {
      "text/html": [
       "<div>\n",
       "<style scoped>\n",
       "    .dataframe tbody tr th:only-of-type {\n",
       "        vertical-align: middle;\n",
       "    }\n",
       "\n",
       "    .dataframe tbody tr th {\n",
       "        vertical-align: top;\n",
       "    }\n",
       "\n",
       "    .dataframe thead th {\n",
       "        text-align: right;\n",
       "    }\n",
       "</style>\n",
       "<table border=\"1\" class=\"dataframe\">\n",
       "  <thead>\n",
       "    <tr style=\"text-align: right;\">\n",
       "      <th></th>\n",
       "      <th>institution</th>\n",
       "      <th>period</th>\n",
       "      <th>euro</th>\n",
       "      <th>doi</th>\n",
       "      <th>is_hybrid</th>\n",
       "      <th>publisher</th>\n",
       "      <th>journal_full_title</th>\n",
       "      <th>issn</th>\n",
       "      <th>issn_print</th>\n",
       "      <th>issn_electronic</th>\n",
       "      <th>license_ref</th>\n",
       "      <th>indexed_in_crossref</th>\n",
       "      <th>pmid</th>\n",
       "      <th>pmcid</th>\n",
       "      <th>ut</th>\n",
       "      <th>url</th>\n",
       "      <th>doaj</th>\n",
       "    </tr>\n",
       "  </thead>\n",
       "  <tbody>\n",
       "    <tr>\n",
       "      <td>0</td>\n",
       "      <td>FU Berlin</td>\n",
       "      <td>2015</td>\n",
       "      <td>2000.00</td>\n",
       "      <td>10.1038/npjqi.2015.10</td>\n",
       "      <td>False</td>\n",
       "      <td>Springer Nature</td>\n",
       "      <td>npj Quantum Information</td>\n",
       "      <td>2056-6387</td>\n",
       "      <td>NaN</td>\n",
       "      <td>2056-6387</td>\n",
       "      <td>NaN</td>\n",
       "      <td>True</td>\n",
       "      <td>NaN</td>\n",
       "      <td>NaN</td>\n",
       "      <td>NaN</td>\n",
       "      <td>NaN</td>\n",
       "      <td>True</td>\n",
       "    </tr>\n",
       "    <tr>\n",
       "      <td>1</td>\n",
       "      <td>FU Berlin</td>\n",
       "      <td>2015</td>\n",
       "      <td>1503.12</td>\n",
       "      <td>10.1103/PhysRevX.5.041008</td>\n",
       "      <td>False</td>\n",
       "      <td>American Physical Society (APS)</td>\n",
       "      <td>Physical Review X</td>\n",
       "      <td>2160-3308</td>\n",
       "      <td>NaN</td>\n",
       "      <td>2160-3308</td>\n",
       "      <td>http://creativecommons.org/licenses/by/3.0/</td>\n",
       "      <td>True</td>\n",
       "      <td>NaN</td>\n",
       "      <td>NaN</td>\n",
       "      <td>NaN</td>\n",
       "      <td>NaN</td>\n",
       "      <td>True</td>\n",
       "    </tr>\n",
       "    <tr>\n",
       "      <td>2</td>\n",
       "      <td>FU Berlin</td>\n",
       "      <td>2015</td>\n",
       "      <td>2000.00</td>\n",
       "      <td>10.1038/ncomms9498</td>\n",
       "      <td>False</td>\n",
       "      <td>Springer Nature</td>\n",
       "      <td>Nature Communications</td>\n",
       "      <td>2041-1723</td>\n",
       "      <td>NaN</td>\n",
       "      <td>2041-1723</td>\n",
       "      <td>NaN</td>\n",
       "      <td>True</td>\n",
       "      <td>26577800.0</td>\n",
       "      <td>PMC4673657</td>\n",
       "      <td>NaN</td>\n",
       "      <td>NaN</td>\n",
       "      <td>True</td>\n",
       "    </tr>\n",
       "    <tr>\n",
       "      <td>3</td>\n",
       "      <td>FU Berlin</td>\n",
       "      <td>2015</td>\n",
       "      <td>2000.00</td>\n",
       "      <td>10.1371/journal.ppat.1005246</td>\n",
       "      <td>False</td>\n",
       "      <td>Public Library of Science (PLoS)</td>\n",
       "      <td>PLOS Pathogens</td>\n",
       "      <td>1553-7374</td>\n",
       "      <td>NaN</td>\n",
       "      <td>1553-7374</td>\n",
       "      <td>http://creativecommons.org/licenses/by/4.0/</td>\n",
       "      <td>True</td>\n",
       "      <td>26544881.0</td>\n",
       "      <td>PMC4636265</td>\n",
       "      <td>NaN</td>\n",
       "      <td>NaN</td>\n",
       "      <td>True</td>\n",
       "    </tr>\n",
       "    <tr>\n",
       "      <td>4</td>\n",
       "      <td>FU Berlin</td>\n",
       "      <td>2015</td>\n",
       "      <td>1805.00</td>\n",
       "      <td>10.1186/s13099-015-0075-z</td>\n",
       "      <td>False</td>\n",
       "      <td>Springer Nature</td>\n",
       "      <td>Gut Pathogens</td>\n",
       "      <td>1757-4749</td>\n",
       "      <td>NaN</td>\n",
       "      <td>1757-4749</td>\n",
       "      <td>NaN</td>\n",
       "      <td>True</td>\n",
       "      <td>26483849.0</td>\n",
       "      <td>PMC4610047</td>\n",
       "      <td>NaN</td>\n",
       "      <td>NaN</td>\n",
       "      <td>True</td>\n",
       "    </tr>\n",
       "    <tr>\n",
       "      <td>...</td>\n",
       "      <td>...</td>\n",
       "      <td>...</td>\n",
       "      <td>...</td>\n",
       "      <td>...</td>\n",
       "      <td>...</td>\n",
       "      <td>...</td>\n",
       "      <td>...</td>\n",
       "      <td>...</td>\n",
       "      <td>...</td>\n",
       "      <td>...</td>\n",
       "      <td>...</td>\n",
       "      <td>...</td>\n",
       "      <td>...</td>\n",
       "      <td>...</td>\n",
       "      <td>...</td>\n",
       "      <td>...</td>\n",
       "      <td>...</td>\n",
       "    </tr>\n",
       "    <tr>\n",
       "      <td>56</td>\n",
       "      <td>FU Berlin</td>\n",
       "      <td>2015</td>\n",
       "      <td>1731.45</td>\n",
       "      <td>10.1186/s13015-014-0028-y</td>\n",
       "      <td>False</td>\n",
       "      <td>Springer Nature</td>\n",
       "      <td>Algorithms for Molecular Biology</td>\n",
       "      <td>1748-7188</td>\n",
       "      <td>1748-7188</td>\n",
       "      <td>NaN</td>\n",
       "      <td>NaN</td>\n",
       "      <td>True</td>\n",
       "      <td>25649004.0</td>\n",
       "      <td>PMC4302510</td>\n",
       "      <td>NaN</td>\n",
       "      <td>NaN</td>\n",
       "      <td>True</td>\n",
       "    </tr>\n",
       "    <tr>\n",
       "      <td>57</td>\n",
       "      <td>FU Berlin</td>\n",
       "      <td>2015</td>\n",
       "      <td>1600.00</td>\n",
       "      <td>10.3389/fpsyg.2015.00194</td>\n",
       "      <td>False</td>\n",
       "      <td>Frontiers Media SA</td>\n",
       "      <td>Frontiers in Psychology</td>\n",
       "      <td>1664-1078</td>\n",
       "      <td>NaN</td>\n",
       "      <td>1664-1078</td>\n",
       "      <td>NaN</td>\n",
       "      <td>True</td>\n",
       "      <td>25762966.0</td>\n",
       "      <td>PMC4340142</td>\n",
       "      <td>NaN</td>\n",
       "      <td>NaN</td>\n",
       "      <td>True</td>\n",
       "    </tr>\n",
       "    <tr>\n",
       "      <td>58</td>\n",
       "      <td>FU Berlin</td>\n",
       "      <td>2015</td>\n",
       "      <td>219.84</td>\n",
       "      <td>10.3389/fevo.2015.00020</td>\n",
       "      <td>False</td>\n",
       "      <td>Frontiers Media SA</td>\n",
       "      <td>Frontiers in Ecology and Evolution</td>\n",
       "      <td>2296-701X</td>\n",
       "      <td>NaN</td>\n",
       "      <td>2296-701X</td>\n",
       "      <td>NaN</td>\n",
       "      <td>True</td>\n",
       "      <td>NaN</td>\n",
       "      <td>NaN</td>\n",
       "      <td>NaN</td>\n",
       "      <td>NaN</td>\n",
       "      <td>True</td>\n",
       "    </tr>\n",
       "    <tr>\n",
       "      <td>59</td>\n",
       "      <td>FU Berlin</td>\n",
       "      <td>2015</td>\n",
       "      <td>1386.35</td>\n",
       "      <td>10.1038/srep19416</td>\n",
       "      <td>False</td>\n",
       "      <td>Springer Nature</td>\n",
       "      <td>Scientific Reports</td>\n",
       "      <td>2045-2322</td>\n",
       "      <td>NaN</td>\n",
       "      <td>2045-2322</td>\n",
       "      <td>NaN</td>\n",
       "      <td>True</td>\n",
       "      <td>26757825.0</td>\n",
       "      <td>PMC4725832</td>\n",
       "      <td>NaN</td>\n",
       "      <td>NaN</td>\n",
       "      <td>True</td>\n",
       "    </tr>\n",
       "    <tr>\n",
       "      <td>60</td>\n",
       "      <td>FU Berlin</td>\n",
       "      <td>2015</td>\n",
       "      <td>2000.00</td>\n",
       "      <td>10.1155/2015/569512</td>\n",
       "      <td>False</td>\n",
       "      <td>Hindawi Publishing Corporation</td>\n",
       "      <td>Mediators of Inflammation</td>\n",
       "      <td>0962-9351</td>\n",
       "      <td>0962-9351</td>\n",
       "      <td>1466-1861</td>\n",
       "      <td>http://creativecommons.org/licenses/by/4.0/</td>\n",
       "      <td>True</td>\n",
       "      <td>26770019.0</td>\n",
       "      <td>PMC4681803</td>\n",
       "      <td>NaN</td>\n",
       "      <td>NaN</td>\n",
       "      <td>True</td>\n",
       "    </tr>\n",
       "  </tbody>\n",
       "</table>\n",
       "<p>61 rows × 17 columns</p>\n",
       "</div>"
      ],
      "text/plain": [
       "   institution  period     euro                           doi  is_hybrid  \\\n",
       "0    FU Berlin    2015  2000.00         10.1038/npjqi.2015.10      False   \n",
       "1    FU Berlin    2015  1503.12     10.1103/PhysRevX.5.041008      False   \n",
       "2    FU Berlin    2015  2000.00            10.1038/ncomms9498      False   \n",
       "3    FU Berlin    2015  2000.00  10.1371/journal.ppat.1005246      False   \n",
       "4    FU Berlin    2015  1805.00     10.1186/s13099-015-0075-z      False   \n",
       "..         ...     ...      ...                           ...        ...   \n",
       "56   FU Berlin    2015  1731.45     10.1186/s13015-014-0028-y      False   \n",
       "57   FU Berlin    2015  1600.00      10.3389/fpsyg.2015.00194      False   \n",
       "58   FU Berlin    2015   219.84       10.3389/fevo.2015.00020      False   \n",
       "59   FU Berlin    2015  1386.35             10.1038/srep19416      False   \n",
       "60   FU Berlin    2015  2000.00           10.1155/2015/569512      False   \n",
       "\n",
       "                           publisher                  journal_full_title  \\\n",
       "0                    Springer Nature             npj Quantum Information   \n",
       "1    American Physical Society (APS)                   Physical Review X   \n",
       "2                    Springer Nature               Nature Communications   \n",
       "3   Public Library of Science (PLoS)                      PLOS Pathogens   \n",
       "4                    Springer Nature                       Gut Pathogens   \n",
       "..                               ...                                 ...   \n",
       "56                   Springer Nature    Algorithms for Molecular Biology   \n",
       "57                Frontiers Media SA             Frontiers in Psychology   \n",
       "58                Frontiers Media SA  Frontiers in Ecology and Evolution   \n",
       "59                   Springer Nature                  Scientific Reports   \n",
       "60    Hindawi Publishing Corporation           Mediators of Inflammation   \n",
       "\n",
       "         issn issn_print issn_electronic  \\\n",
       "0   2056-6387        NaN       2056-6387   \n",
       "1   2160-3308        NaN       2160-3308   \n",
       "2   2041-1723        NaN       2041-1723   \n",
       "3   1553-7374        NaN       1553-7374   \n",
       "4   1757-4749        NaN       1757-4749   \n",
       "..        ...        ...             ...   \n",
       "56  1748-7188  1748-7188             NaN   \n",
       "57  1664-1078        NaN       1664-1078   \n",
       "58  2296-701X        NaN       2296-701X   \n",
       "59  2045-2322        NaN       2045-2322   \n",
       "60  0962-9351  0962-9351       1466-1861   \n",
       "\n",
       "                                    license_ref  indexed_in_crossref  \\\n",
       "0                                           NaN                 True   \n",
       "1   http://creativecommons.org/licenses/by/3.0/                 True   \n",
       "2                                           NaN                 True   \n",
       "3   http://creativecommons.org/licenses/by/4.0/                 True   \n",
       "4                                           NaN                 True   \n",
       "..                                          ...                  ...   \n",
       "56                                          NaN                 True   \n",
       "57                                          NaN                 True   \n",
       "58                                          NaN                 True   \n",
       "59                                          NaN                 True   \n",
       "60  http://creativecommons.org/licenses/by/4.0/                 True   \n",
       "\n",
       "          pmid       pmcid  ut  url  doaj  \n",
       "0          NaN         NaN NaN  NaN  True  \n",
       "1          NaN         NaN NaN  NaN  True  \n",
       "2   26577800.0  PMC4673657 NaN  NaN  True  \n",
       "3   26544881.0  PMC4636265 NaN  NaN  True  \n",
       "4   26483849.0  PMC4610047 NaN  NaN  True  \n",
       "..         ...         ...  ..  ...   ...  \n",
       "56  25649004.0  PMC4302510 NaN  NaN  True  \n",
       "57  25762966.0  PMC4340142 NaN  NaN  True  \n",
       "58         NaN         NaN NaN  NaN  True  \n",
       "59  26757825.0  PMC4725832 NaN  NaN  True  \n",
       "60  26770019.0  PMC4681803 NaN  NaN  True  \n",
       "\n",
       "[61 rows x 17 columns]"
      ]
     },
     "execution_count": 8,
     "metadata": {},
     "output_type": "execute_result"
    }
   ],
   "source": [
    "apcs"
   ]
  },
  {
   "cell_type": "code",
   "execution_count": 9,
   "metadata": {},
   "outputs": [
    {
     "name": "stdout",
     "output_type": "stream",
     "text": [
      "   institution  period     euro                           doi  is_hybrid  \\\n",
      "0    FU Berlin    2015  2000.00         10.1038/npjqi.2015.10      False   \n",
      "1    FU Berlin    2015  1503.12     10.1103/PhysRevX.5.041008      False   \n",
      "2    FU Berlin    2015  2000.00            10.1038/ncomms9498      False   \n",
      "3    FU Berlin    2015  2000.00  10.1371/journal.ppat.1005246      False   \n",
      "4    FU Berlin    2015  1805.00     10.1186/s13099-015-0075-z      False   \n",
      "..         ...     ...      ...                           ...        ...   \n",
      "56   FU Berlin    2015  1731.45     10.1186/s13015-014-0028-y      False   \n",
      "57   FU Berlin    2015  1600.00      10.3389/fpsyg.2015.00194      False   \n",
      "58   FU Berlin    2015   219.84       10.3389/fevo.2015.00020      False   \n",
      "59   FU Berlin    2015  1386.35             10.1038/srep19416      False   \n",
      "60   FU Berlin    2015  2000.00           10.1155/2015/569512      False   \n",
      "\n",
      "                           publisher                  journal_full_title  \\\n",
      "0                    Springer Nature             npj Quantum Information   \n",
      "1    American Physical Society (APS)                   Physical Review X   \n",
      "2                    Springer Nature               Nature Communications   \n",
      "3   Public Library of Science (PLoS)                      PLOS Pathogens   \n",
      "4                    Springer Nature                       Gut Pathogens   \n",
      "..                               ...                                 ...   \n",
      "56                   Springer Nature    Algorithms for Molecular Biology   \n",
      "57                Frontiers Media SA             Frontiers in Psychology   \n",
      "58                Frontiers Media SA  Frontiers in Ecology and Evolution   \n",
      "59                   Springer Nature                  Scientific Reports   \n",
      "60    Hindawi Publishing Corporation           Mediators of Inflammation   \n",
      "\n",
      "         issn issn_print issn_electronic  \\\n",
      "0   2056-6387        NaN       2056-6387   \n",
      "1   2160-3308        NaN       2160-3308   \n",
      "2   2041-1723        NaN       2041-1723   \n",
      "3   1553-7374        NaN       1553-7374   \n",
      "4   1757-4749        NaN       1757-4749   \n",
      "..        ...        ...             ...   \n",
      "56  1748-7188  1748-7188             NaN   \n",
      "57  1664-1078        NaN       1664-1078   \n",
      "58  2296-701X        NaN       2296-701X   \n",
      "59  2045-2322        NaN       2045-2322   \n",
      "60  0962-9351  0962-9351       1466-1861   \n",
      "\n",
      "                                    license_ref  indexed_in_crossref  \\\n",
      "0                                           NaN                 True   \n",
      "1   http://creativecommons.org/licenses/by/3.0/                 True   \n",
      "2                                           NaN                 True   \n",
      "3   http://creativecommons.org/licenses/by/4.0/                 True   \n",
      "4                                           NaN                 True   \n",
      "..                                          ...                  ...   \n",
      "56                                          NaN                 True   \n",
      "57                                          NaN                 True   \n",
      "58                                          NaN                 True   \n",
      "59                                          NaN                 True   \n",
      "60  http://creativecommons.org/licenses/by/4.0/                 True   \n",
      "\n",
      "          pmid       pmcid  ut  url  doaj  \n",
      "0          NaN         NaN NaN  NaN  True  \n",
      "1          NaN         NaN NaN  NaN  True  \n",
      "2   26577800.0  PMC4673657 NaN  NaN  True  \n",
      "3   26544881.0  PMC4636265 NaN  NaN  True  \n",
      "4   26483849.0  PMC4610047 NaN  NaN  True  \n",
      "..         ...         ...  ..  ...   ...  \n",
      "56  25649004.0  PMC4302510 NaN  NaN  True  \n",
      "57  25762966.0  PMC4340142 NaN  NaN  True  \n",
      "58         NaN         NaN NaN  NaN  True  \n",
      "59  26757825.0  PMC4725832 NaN  NaN  True  \n",
      "60  26770019.0  PMC4681803 NaN  NaN  True  \n",
      "\n",
      "[61 rows x 17 columns]\n"
     ]
    }
   ],
   "source": [
    "print(apcs)"
   ]
  },
  {
   "cell_type": "code",
   "execution_count": 10,
   "metadata": {},
   "outputs": [
    {
     "data": {
      "text/plain": [
       "0     2000.00\n",
       "1     1503.12\n",
       "2     2000.00\n",
       "3     2000.00\n",
       "4     1805.00\n",
       "       ...   \n",
       "56    1731.45\n",
       "57    1600.00\n",
       "58     219.84\n",
       "59    1386.35\n",
       "60    2000.00\n",
       "Name: euro, Length: 61, dtype: float64"
      ]
     },
     "execution_count": 10,
     "metadata": {},
     "output_type": "execute_result"
    }
   ],
   "source": [
    "apcs[\"euro\"]"
   ]
  },
  {
   "cell_type": "code",
   "execution_count": 11,
   "metadata": {},
   "outputs": [
    {
     "data": {
      "text/html": [
       "<div>\n",
       "<style scoped>\n",
       "    .dataframe tbody tr th:only-of-type {\n",
       "        vertical-align: middle;\n",
       "    }\n",
       "\n",
       "    .dataframe tbody tr th {\n",
       "        vertical-align: top;\n",
       "    }\n",
       "\n",
       "    .dataframe thead th {\n",
       "        text-align: right;\n",
       "    }\n",
       "</style>\n",
       "<table border=\"1\" class=\"dataframe\">\n",
       "  <thead>\n",
       "    <tr style=\"text-align: right;\">\n",
       "      <th></th>\n",
       "      <th>euro</th>\n",
       "      <th>doi</th>\n",
       "    </tr>\n",
       "  </thead>\n",
       "  <tbody>\n",
       "    <tr>\n",
       "      <td>0</td>\n",
       "      <td>2000.00</td>\n",
       "      <td>10.1038/npjqi.2015.10</td>\n",
       "    </tr>\n",
       "    <tr>\n",
       "      <td>1</td>\n",
       "      <td>1503.12</td>\n",
       "      <td>10.1103/PhysRevX.5.041008</td>\n",
       "    </tr>\n",
       "    <tr>\n",
       "      <td>2</td>\n",
       "      <td>2000.00</td>\n",
       "      <td>10.1038/ncomms9498</td>\n",
       "    </tr>\n",
       "    <tr>\n",
       "      <td>3</td>\n",
       "      <td>2000.00</td>\n",
       "      <td>10.1371/journal.ppat.1005246</td>\n",
       "    </tr>\n",
       "    <tr>\n",
       "      <td>4</td>\n",
       "      <td>1805.00</td>\n",
       "      <td>10.1186/s13099-015-0075-z</td>\n",
       "    </tr>\n",
       "    <tr>\n",
       "      <td>...</td>\n",
       "      <td>...</td>\n",
       "      <td>...</td>\n",
       "    </tr>\n",
       "    <tr>\n",
       "      <td>56</td>\n",
       "      <td>1731.45</td>\n",
       "      <td>10.1186/s13015-014-0028-y</td>\n",
       "    </tr>\n",
       "    <tr>\n",
       "      <td>57</td>\n",
       "      <td>1600.00</td>\n",
       "      <td>10.3389/fpsyg.2015.00194</td>\n",
       "    </tr>\n",
       "    <tr>\n",
       "      <td>58</td>\n",
       "      <td>219.84</td>\n",
       "      <td>10.3389/fevo.2015.00020</td>\n",
       "    </tr>\n",
       "    <tr>\n",
       "      <td>59</td>\n",
       "      <td>1386.35</td>\n",
       "      <td>10.1038/srep19416</td>\n",
       "    </tr>\n",
       "    <tr>\n",
       "      <td>60</td>\n",
       "      <td>2000.00</td>\n",
       "      <td>10.1155/2015/569512</td>\n",
       "    </tr>\n",
       "  </tbody>\n",
       "</table>\n",
       "<p>61 rows × 2 columns</p>\n",
       "</div>"
      ],
      "text/plain": [
       "       euro                           doi\n",
       "0   2000.00         10.1038/npjqi.2015.10\n",
       "1   1503.12     10.1103/PhysRevX.5.041008\n",
       "2   2000.00            10.1038/ncomms9498\n",
       "3   2000.00  10.1371/journal.ppat.1005246\n",
       "4   1805.00     10.1186/s13099-015-0075-z\n",
       "..      ...                           ...\n",
       "56  1731.45     10.1186/s13015-014-0028-y\n",
       "57  1600.00      10.3389/fpsyg.2015.00194\n",
       "58   219.84       10.3389/fevo.2015.00020\n",
       "59  1386.35             10.1038/srep19416\n",
       "60  2000.00           10.1155/2015/569512\n",
       "\n",
       "[61 rows x 2 columns]"
      ]
     },
     "execution_count": 11,
     "metadata": {},
     "output_type": "execute_result"
    }
   ],
   "source": [
    "apcs[[\"euro\",\"doi\"]]"
   ]
  },
  {
   "cell_type": "code",
   "execution_count": 12,
   "metadata": {},
   "outputs": [
    {
     "data": {
      "text/plain": [
       "0      True\n",
       "1     False\n",
       "2      True\n",
       "3      True\n",
       "4     False\n",
       "      ...  \n",
       "56    False\n",
       "57    False\n",
       "58    False\n",
       "59    False\n",
       "60     True\n",
       "Name: euro, Length: 61, dtype: bool"
      ]
     },
     "execution_count": 12,
     "metadata": {},
     "output_type": "execute_result"
    }
   ],
   "source": [
    "apcs[\"euro\"] >= 2000"
   ]
  },
  {
   "cell_type": "code",
   "execution_count": 13,
   "metadata": {},
   "outputs": [
    {
     "data": {
      "text/html": [
       "<div>\n",
       "<style scoped>\n",
       "    .dataframe tbody tr th:only-of-type {\n",
       "        vertical-align: middle;\n",
       "    }\n",
       "\n",
       "    .dataframe tbody tr th {\n",
       "        vertical-align: top;\n",
       "    }\n",
       "\n",
       "    .dataframe thead th {\n",
       "        text-align: right;\n",
       "    }\n",
       "</style>\n",
       "<table border=\"1\" class=\"dataframe\">\n",
       "  <thead>\n",
       "    <tr style=\"text-align: right;\">\n",
       "      <th></th>\n",
       "      <th>institution</th>\n",
       "      <th>period</th>\n",
       "      <th>euro</th>\n",
       "      <th>doi</th>\n",
       "      <th>is_hybrid</th>\n",
       "      <th>publisher</th>\n",
       "      <th>journal_full_title</th>\n",
       "      <th>issn</th>\n",
       "      <th>issn_print</th>\n",
       "      <th>issn_electronic</th>\n",
       "      <th>license_ref</th>\n",
       "      <th>indexed_in_crossref</th>\n",
       "      <th>pmid</th>\n",
       "      <th>pmcid</th>\n",
       "      <th>ut</th>\n",
       "      <th>url</th>\n",
       "      <th>doaj</th>\n",
       "    </tr>\n",
       "  </thead>\n",
       "  <tbody>\n",
       "    <tr>\n",
       "      <td>0</td>\n",
       "      <td>FU Berlin</td>\n",
       "      <td>2015</td>\n",
       "      <td>2000.0</td>\n",
       "      <td>10.1038/npjqi.2015.10</td>\n",
       "      <td>False</td>\n",
       "      <td>Springer Nature</td>\n",
       "      <td>npj Quantum Information</td>\n",
       "      <td>2056-6387</td>\n",
       "      <td>NaN</td>\n",
       "      <td>2056-6387</td>\n",
       "      <td>NaN</td>\n",
       "      <td>True</td>\n",
       "      <td>NaN</td>\n",
       "      <td>NaN</td>\n",
       "      <td>NaN</td>\n",
       "      <td>NaN</td>\n",
       "      <td>True</td>\n",
       "    </tr>\n",
       "    <tr>\n",
       "      <td>2</td>\n",
       "      <td>FU Berlin</td>\n",
       "      <td>2015</td>\n",
       "      <td>2000.0</td>\n",
       "      <td>10.1038/ncomms9498</td>\n",
       "      <td>False</td>\n",
       "      <td>Springer Nature</td>\n",
       "      <td>Nature Communications</td>\n",
       "      <td>2041-1723</td>\n",
       "      <td>NaN</td>\n",
       "      <td>2041-1723</td>\n",
       "      <td>NaN</td>\n",
       "      <td>True</td>\n",
       "      <td>26577800.0</td>\n",
       "      <td>PMC4673657</td>\n",
       "      <td>NaN</td>\n",
       "      <td>NaN</td>\n",
       "      <td>True</td>\n",
       "    </tr>\n",
       "    <tr>\n",
       "      <td>3</td>\n",
       "      <td>FU Berlin</td>\n",
       "      <td>2015</td>\n",
       "      <td>2000.0</td>\n",
       "      <td>10.1371/journal.ppat.1005246</td>\n",
       "      <td>False</td>\n",
       "      <td>Public Library of Science (PLoS)</td>\n",
       "      <td>PLOS Pathogens</td>\n",
       "      <td>1553-7374</td>\n",
       "      <td>NaN</td>\n",
       "      <td>1553-7374</td>\n",
       "      <td>http://creativecommons.org/licenses/by/4.0/</td>\n",
       "      <td>True</td>\n",
       "      <td>26544881.0</td>\n",
       "      <td>PMC4636265</td>\n",
       "      <td>NaN</td>\n",
       "      <td>NaN</td>\n",
       "      <td>True</td>\n",
       "    </tr>\n",
       "    <tr>\n",
       "      <td>12</td>\n",
       "      <td>FU Berlin</td>\n",
       "      <td>2015</td>\n",
       "      <td>2000.0</td>\n",
       "      <td>10.3389/fpsyg.2015.01675</td>\n",
       "      <td>False</td>\n",
       "      <td>Frontiers Media SA</td>\n",
       "      <td>Frontiers in Psychology</td>\n",
       "      <td>1664-1078</td>\n",
       "      <td>NaN</td>\n",
       "      <td>1664-1078</td>\n",
       "      <td>NaN</td>\n",
       "      <td>True</td>\n",
       "      <td>26583000.0</td>\n",
       "      <td>PMC4628112</td>\n",
       "      <td>NaN</td>\n",
       "      <td>NaN</td>\n",
       "      <td>True</td>\n",
       "    </tr>\n",
       "    <tr>\n",
       "      <td>15</td>\n",
       "      <td>FU Berlin</td>\n",
       "      <td>2015</td>\n",
       "      <td>2000.0</td>\n",
       "      <td>10.1371/journal.ppat.1004781</td>\n",
       "      <td>False</td>\n",
       "      <td>Public Library of Science (PLoS)</td>\n",
       "      <td>PLOS Pathogens</td>\n",
       "      <td>1553-7374</td>\n",
       "      <td>NaN</td>\n",
       "      <td>1553-7374</td>\n",
       "      <td>http://creativecommons.org/licenses/by/4.0/</td>\n",
       "      <td>True</td>\n",
       "      <td>NaN</td>\n",
       "      <td>NaN</td>\n",
       "      <td>NaN</td>\n",
       "      <td>NaN</td>\n",
       "      <td>True</td>\n",
       "    </tr>\n",
       "    <tr>\n",
       "      <td>23</td>\n",
       "      <td>FU Berlin</td>\n",
       "      <td>2015</td>\n",
       "      <td>2000.0</td>\n",
       "      <td>10.1127/metz/2015/0641</td>\n",
       "      <td>False</td>\n",
       "      <td>Schweizerbart</td>\n",
       "      <td>Meteorologische Zeitschrift</td>\n",
       "      <td>0941-2948</td>\n",
       "      <td>NaN</td>\n",
       "      <td>NaN</td>\n",
       "      <td>NaN</td>\n",
       "      <td>True</td>\n",
       "      <td>NaN</td>\n",
       "      <td>NaN</td>\n",
       "      <td>NaN</td>\n",
       "      <td>NaN</td>\n",
       "      <td>True</td>\n",
       "    </tr>\n",
       "    <tr>\n",
       "      <td>28</td>\n",
       "      <td>FU Berlin</td>\n",
       "      <td>2015</td>\n",
       "      <td>2000.0</td>\n",
       "      <td>10.3389/fnhum.2015.00551</td>\n",
       "      <td>False</td>\n",
       "      <td>Frontiers Media SA</td>\n",
       "      <td>Frontiers in Human Neuroscience</td>\n",
       "      <td>1662-5161</td>\n",
       "      <td>NaN</td>\n",
       "      <td>1662-5161</td>\n",
       "      <td>NaN</td>\n",
       "      <td>True</td>\n",
       "      <td>26500523.0</td>\n",
       "      <td>PMC4599046</td>\n",
       "      <td>NaN</td>\n",
       "      <td>NaN</td>\n",
       "      <td>True</td>\n",
       "    </tr>\n",
       "    <tr>\n",
       "      <td>29</td>\n",
       "      <td>FU Berlin</td>\n",
       "      <td>2015</td>\n",
       "      <td>2000.0</td>\n",
       "      <td>10.1038/ncomms8606</td>\n",
       "      <td>False</td>\n",
       "      <td>Springer Nature</td>\n",
       "      <td>Nature Communications</td>\n",
       "      <td>2041-1723</td>\n",
       "      <td>NaN</td>\n",
       "      <td>2041-1723</td>\n",
       "      <td>NaN</td>\n",
       "      <td>True</td>\n",
       "      <td>26216619.0</td>\n",
       "      <td>PMC4525213</td>\n",
       "      <td>NaN</td>\n",
       "      <td>NaN</td>\n",
       "      <td>True</td>\n",
       "    </tr>\n",
       "    <tr>\n",
       "      <td>32</td>\n",
       "      <td>FU Berlin</td>\n",
       "      <td>2015</td>\n",
       "      <td>2000.0</td>\n",
       "      <td>10.1186/s12918-015-0183-x</td>\n",
       "      <td>False</td>\n",
       "      <td>Springer Nature</td>\n",
       "      <td>BMC Systems Biology</td>\n",
       "      <td>1752-0509</td>\n",
       "      <td>NaN</td>\n",
       "      <td>1752-0509</td>\n",
       "      <td>NaN</td>\n",
       "      <td>True</td>\n",
       "      <td>26201334.0</td>\n",
       "      <td>PMC4511525</td>\n",
       "      <td>NaN</td>\n",
       "      <td>NaN</td>\n",
       "      <td>True</td>\n",
       "    </tr>\n",
       "    <tr>\n",
       "      <td>45</td>\n",
       "      <td>FU Berlin</td>\n",
       "      <td>2015</td>\n",
       "      <td>2000.0</td>\n",
       "      <td>10.1371/journal.pcbi.1004200</td>\n",
       "      <td>False</td>\n",
       "      <td>Public Library of Science (PLoS)</td>\n",
       "      <td>PLOS Computational Biology</td>\n",
       "      <td>1553-7358</td>\n",
       "      <td>NaN</td>\n",
       "      <td>1553-7358</td>\n",
       "      <td>http://creativecommons.org/licenses/by/4.0/</td>\n",
       "      <td>True</td>\n",
       "      <td>25927964.0</td>\n",
       "      <td>PMC4423987</td>\n",
       "      <td>NaN</td>\n",
       "      <td>NaN</td>\n",
       "      <td>True</td>\n",
       "    </tr>\n",
       "    <tr>\n",
       "      <td>60</td>\n",
       "      <td>FU Berlin</td>\n",
       "      <td>2015</td>\n",
       "      <td>2000.0</td>\n",
       "      <td>10.1155/2015/569512</td>\n",
       "      <td>False</td>\n",
       "      <td>Hindawi Publishing Corporation</td>\n",
       "      <td>Mediators of Inflammation</td>\n",
       "      <td>0962-9351</td>\n",
       "      <td>0962-9351</td>\n",
       "      <td>1466-1861</td>\n",
       "      <td>http://creativecommons.org/licenses/by/4.0/</td>\n",
       "      <td>True</td>\n",
       "      <td>26770019.0</td>\n",
       "      <td>PMC4681803</td>\n",
       "      <td>NaN</td>\n",
       "      <td>NaN</td>\n",
       "      <td>True</td>\n",
       "    </tr>\n",
       "  </tbody>\n",
       "</table>\n",
       "</div>"
      ],
      "text/plain": [
       "   institution  period    euro                            doi  is_hybrid  \\\n",
       "0    FU Berlin    2015  2000.0          10.1038/npjqi.2015.10      False   \n",
       "2    FU Berlin    2015  2000.0             10.1038/ncomms9498      False   \n",
       "3    FU Berlin    2015  2000.0   10.1371/journal.ppat.1005246      False   \n",
       "12   FU Berlin    2015  2000.0       10.3389/fpsyg.2015.01675      False   \n",
       "15   FU Berlin    2015  2000.0   10.1371/journal.ppat.1004781      False   \n",
       "23   FU Berlin    2015  2000.0         10.1127/metz/2015/0641      False   \n",
       "28   FU Berlin    2015  2000.0       10.3389/fnhum.2015.00551      False   \n",
       "29   FU Berlin    2015  2000.0             10.1038/ncomms8606      False   \n",
       "32   FU Berlin    2015  2000.0      10.1186/s12918-015-0183-x      False   \n",
       "45   FU Berlin    2015  2000.0   10.1371/journal.pcbi.1004200      False   \n",
       "60   FU Berlin    2015  2000.0            10.1155/2015/569512      False   \n",
       "\n",
       "                           publisher               journal_full_title  \\\n",
       "0                    Springer Nature          npj Quantum Information   \n",
       "2                    Springer Nature            Nature Communications   \n",
       "3   Public Library of Science (PLoS)                   PLOS Pathogens   \n",
       "12                Frontiers Media SA          Frontiers in Psychology   \n",
       "15  Public Library of Science (PLoS)                   PLOS Pathogens   \n",
       "23                     Schweizerbart      Meteorologische Zeitschrift   \n",
       "28                Frontiers Media SA  Frontiers in Human Neuroscience   \n",
       "29                   Springer Nature            Nature Communications   \n",
       "32                   Springer Nature              BMC Systems Biology   \n",
       "45  Public Library of Science (PLoS)       PLOS Computational Biology   \n",
       "60    Hindawi Publishing Corporation        Mediators of Inflammation   \n",
       "\n",
       "         issn issn_print issn_electronic  \\\n",
       "0   2056-6387        NaN       2056-6387   \n",
       "2   2041-1723        NaN       2041-1723   \n",
       "3   1553-7374        NaN       1553-7374   \n",
       "12  1664-1078        NaN       1664-1078   \n",
       "15  1553-7374        NaN       1553-7374   \n",
       "23  0941-2948        NaN             NaN   \n",
       "28  1662-5161        NaN       1662-5161   \n",
       "29  2041-1723        NaN       2041-1723   \n",
       "32  1752-0509        NaN       1752-0509   \n",
       "45  1553-7358        NaN       1553-7358   \n",
       "60  0962-9351  0962-9351       1466-1861   \n",
       "\n",
       "                                    license_ref  indexed_in_crossref  \\\n",
       "0                                           NaN                 True   \n",
       "2                                           NaN                 True   \n",
       "3   http://creativecommons.org/licenses/by/4.0/                 True   \n",
       "12                                          NaN                 True   \n",
       "15  http://creativecommons.org/licenses/by/4.0/                 True   \n",
       "23                                          NaN                 True   \n",
       "28                                          NaN                 True   \n",
       "29                                          NaN                 True   \n",
       "32                                          NaN                 True   \n",
       "45  http://creativecommons.org/licenses/by/4.0/                 True   \n",
       "60  http://creativecommons.org/licenses/by/4.0/                 True   \n",
       "\n",
       "          pmid       pmcid  ut  url  doaj  \n",
       "0          NaN         NaN NaN  NaN  True  \n",
       "2   26577800.0  PMC4673657 NaN  NaN  True  \n",
       "3   26544881.0  PMC4636265 NaN  NaN  True  \n",
       "12  26583000.0  PMC4628112 NaN  NaN  True  \n",
       "15         NaN         NaN NaN  NaN  True  \n",
       "23         NaN         NaN NaN  NaN  True  \n",
       "28  26500523.0  PMC4599046 NaN  NaN  True  \n",
       "29  26216619.0  PMC4525213 NaN  NaN  True  \n",
       "32  26201334.0  PMC4511525 NaN  NaN  True  \n",
       "45  25927964.0  PMC4423987 NaN  NaN  True  \n",
       "60  26770019.0  PMC4681803 NaN  NaN  True  "
      ]
     },
     "execution_count": 13,
     "metadata": {},
     "output_type": "execute_result"
    }
   ],
   "source": [
    "apcs[ apcs[\"euro\"] >= 2000 ]"
   ]
  },
  {
   "cell_type": "code",
   "execution_count": 14,
   "metadata": {},
   "outputs": [],
   "source": [
    "filterd_apcs = apcs[ apcs[\"euro\"] >= 2000 ] #object"
   ]
  },
  {
   "cell_type": "code",
   "execution_count": 15,
   "metadata": {},
   "outputs": [
    {
     "data": {
      "text/plain": [
       "pandas.core.frame.DataFrame"
      ]
     },
     "execution_count": 15,
     "metadata": {},
     "output_type": "execute_result"
    }
   ],
   "source": [
    "type(filterd_apcs)"
   ]
  },
  {
   "cell_type": "code",
   "execution_count": 16,
   "metadata": {},
   "outputs": [
    {
     "data": {
      "text/plain": [
       "(11, 17)"
      ]
     },
     "execution_count": 16,
     "metadata": {},
     "output_type": "execute_result"
    }
   ],
   "source": [
    "filterd_apcs.shape # Attribute"
   ]
  },
  {
   "cell_type": "code",
   "execution_count": 17,
   "metadata": {},
   "outputs": [
    {
     "data": {
      "text/plain": [
       "Index(['institution', 'period', 'euro', 'doi', 'is_hybrid', 'publisher',\n",
       "       'journal_full_title', 'issn', 'issn_print', 'issn_electronic',\n",
       "       'license_ref', 'indexed_in_crossref', 'pmid', 'pmcid', 'ut', 'url',\n",
       "       'doaj'],\n",
       "      dtype='object')"
      ]
     },
     "execution_count": 17,
     "metadata": {},
     "output_type": "execute_result"
    }
   ],
   "source": [
    "filterd_apcs.columns"
   ]
  },
  {
   "cell_type": "code",
   "execution_count": 23,
   "metadata": {},
   "outputs": [],
   "source": [
    "# das die Grafik in dem Notebook dargestellt wird\n",
    "%matplotlib inline"
   ]
  },
  {
   "cell_type": "code",
   "execution_count": 24,
   "metadata": {},
   "outputs": [
    {
     "data": {
      "text/plain": [
       "<matplotlib.axes._subplots.AxesSubplot at 0x11c317810>"
      ]
     },
     "execution_count": 24,
     "metadata": {},
     "output_type": "execute_result"
    },
    {
     "data": {
      "image/png": "[encoded data removed]",
      "text/plain": [
       "<Figure size 432x288 with 1 Axes>"
      ]
     },
     "metadata": {
      "needs_background": "light"
     },
     "output_type": "display_data"
    }
   ],
   "source": [
    "apcs[\"euro\"].hist() # Function hist"
   ]
  },
  {
   "cell_type": "code",
   "execution_count": 25,
   "metadata": {},
   "outputs": [
    {
     "name": "stdout",
     "output_type": "stream",
     "text": [
      "apc_file\t apcs\t filterd_apcs\t open_apc_url\t p\t pd\t urllib\t \n"
     ]
    }
   ],
   "source": [
    "# welche Variable ich gewählt/benannt hab\n",
    "%who"
   ]
  },
  {
   "cell_type": "code",
   "execution_count": 26,
   "metadata": {},
   "outputs": [
    {
     "data": {
      "text/plain": [
       "<matplotlib.axes._subplots.AxesSubplot at 0x11c7e7f10>"
      ]
     },
     "execution_count": 26,
     "metadata": {},
     "output_type": "execute_result"
    },
    {
     "data": {
      "image/png": "[encoded data removed]",
      "text/plain": [
       "<Figure size 432x288 with 1 Axes>"
      ]
     },
     "metadata": {
      "needs_background": "light"
     },
     "output_type": "display_data"
    }
   ],
   "source": [
    "apcs[\"euro\"].hist(bins=20)"
   ]
  },
  {
   "cell_type": "code",
   "execution_count": 30,
   "metadata": {},
   "outputs": [
    {
     "data": {
      "text/plain": [
       "<matplotlib.axes._subplots.AxesSubplot at 0x11ba38a90>"
      ]
     },
     "execution_count": 30,
     "metadata": {},
     "output_type": "execute_result"
    },
    {
     "data": {
      "image/png": "[encoded data removed]",
      "text/plain": [
       "<Figure size 432x288 with 1 Axes>"
      ]
     },
     "metadata": {
      "needs_background": "light"
     },
     "output_type": "display_data"
    }
   ],
   "source": [
    "# bins sind die Säulen\n",
    "apcs[\"euro\"].hist(bins=20, color=\"green\")"
   ]
  },
  {
   "cell_type": "code",
   "execution_count": 32,
   "metadata": {},
   "outputs": [],
   "source": [
    "euro = apcs[\"euro\"]"
   ]
  },
  {
   "cell_type": "code",
   "execution_count": 33,
   "metadata": {},
   "outputs": [
    {
     "data": {
      "text/plain": [
       "0     2000000.0\n",
       "1     1503120.0\n",
       "2     2000000.0\n",
       "3     2000000.0\n",
       "4     1805000.0\n",
       "        ...    \n",
       "56    1731450.0\n",
       "57    1600000.0\n",
       "58     219840.0\n",
       "59    1386350.0\n",
       "60    2000000.0\n",
       "Name: euro, Length: 61, dtype: float64"
      ]
     },
     "execution_count": 33,
     "metadata": {},
     "output_type": "execute_result"
    }
   ],
   "source": [
    "euro * 1000"
   ]
  },
  {
   "cell_type": "code",
   "execution_count": 34,
   "metadata": {},
   "outputs": [
    {
     "data": {
      "text/plain": [
       "0     2000\n",
       "1     1503\n",
       "2     2000\n",
       "3     2000\n",
       "4     1805\n",
       "      ... \n",
       "56    1731\n",
       "57    1600\n",
       "58     220\n",
       "59    1386\n",
       "60    2000\n",
       "Name: euro, Length: 61, dtype: int64"
      ]
     },
     "execution_count": 34,
     "metadata": {},
     "output_type": "execute_result"
    }
   ],
   "source": [
    "# eine Funktion die auf alle Werte angewendet wird\n",
    "# round - rundet Zahlen auf\n",
    "euro.apply(round)"
   ]
  },
  {
   "cell_type": "code",
   "execution_count": 35,
   "metadata": {},
   "outputs": [],
   "source": [
    "filterd_apcs.to_excel(\"filterd_apcs.xlsx\")"
   ]
  },
  {
   "cell_type": "code",
   "execution_count": 36,
   "metadata": {},
   "outputs": [],
   "source": [
    "filterd_apcs.to_csv(\"filterd_apcs.csv\")"
   ]
  },
  {
   "cell_type": "code",
   "execution_count": null,
   "metadata": {},
   "outputs": [],
   "source": []
  },
  {
   "cell_type": "code",
   "execution_count": null,
   "metadata": {},
   "outputs": [],
   "source": []
  }
 ],
 "metadata": {
  "kernelspec": {
   "display_name": "Python 3",
   "language": "python",
   "name": "python3"
  },
  "language_info": {
   "codemirror_mode": {
    "name": "ipython",
    "version": 3
   },
   "file_extension": ".py",
   "mimetype": "text/x-python",
   "name": "python",
   "nbconvert_exporter": "python",
   "pygments_lexer": "ipython3",
   "version": "3.7.4"
  }
 },
 "nbformat": 4,
 "nbformat_minor": 2
}
